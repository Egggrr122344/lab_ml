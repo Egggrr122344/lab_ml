{
 "cells": [
  {
   "cell_type": "code",
   "execution_count": 14,
   "id": "845d7e75",
   "metadata": {},
   "outputs": [],
   "source": [
    "import pandas as pd\n",
    "import numpy as np\n",
    "\n"
   ]
  },
  {
   "cell_type": "code",
   "execution_count": 3,
   "id": "cbf6e100",
   "metadata": {},
   "outputs": [
    {
     "data": {
      "text/plain": [
       "(62288, 12)"
      ]
     },
     "execution_count": 3,
     "metadata": {},
     "output_type": "execute_result"
    }
   ],
   "source": []
  },
  {
   "cell_type": "code",
   "execution_count": 4,
   "id": "d6f68fc0",
   "metadata": {},
   "outputs": [
    {
     "data": {
      "text/plain": [
       "ID                          0\n",
       "Age                         0\n",
       "Agency                      0\n",
       "Agency Type                 0\n",
       "Commision (in value)        0\n",
       "Destination                 0\n",
       "Distribution Channel        0\n",
       "Duration                    0\n",
       "Gender                  39575\n",
       "Net Sales                   0\n",
       "Product Name                0\n",
       "Claim                       0\n",
       "dtype: int64"
      ]
     },
     "execution_count": 4,
     "metadata": {},
     "output_type": "execute_result"
    }
   ],
   "source": []
  },
  {
   "cell_type": "code",
   "execution_count": 7,
   "id": "c77f6a3d",
   "metadata": {},
   "outputs": [
    {
     "ename": "ImportError",
     "evalue": "cannot import name 'remove_cols' from 'preprocess' (D:\\ml\\mai_ml_labs\\preprocess.py)",
     "output_type": "error",
     "traceback": [
      "\u001b[1;31m---------------------------------------------------------------------------\u001b[0m",
      "\u001b[1;31mImportError\u001b[0m                               Traceback (most recent call last)",
      "Cell \u001b[1;32mIn[7], line 2\u001b[0m\n\u001b[0;32m      1\u001b[0m \u001b[38;5;28;01mfrom\u001b[39;00m \u001b[38;5;21;01mpreprocess\u001b[39;00m \u001b[38;5;28;01mimport\u001b[39;00m init_data\n\u001b[1;32m----> 2\u001b[0m \u001b[38;5;28;01mfrom\u001b[39;00m \u001b[38;5;21;01mpreprocess\u001b[39;00m \u001b[38;5;28;01mimport\u001b[39;00m remove_cols\n\u001b[0;32m      4\u001b[0m df \u001b[38;5;241m=\u001b[39m init_data(\u001b[38;5;124m'\u001b[39m\u001b[38;5;124mdataset.csv\u001b[39m\u001b[38;5;124m'\u001b[39m)\n\u001b[0;32m      6\u001b[0m remove_cols(df)\n",
      "\u001b[1;31mImportError\u001b[0m: cannot import name 'remove_cols' from 'preprocess' (D:\\ml\\mai_ml_labs\\preprocess.py)"
     ]
    }
   ],
   "source": [
    "from preprocess import init_data\n",
    "from preprocess import remove_cols\n",
    "\n",
    "df = init_data('dataset.csv')\n",
    "\n",
    "remove_cols(df)\n"
   ]
  },
  {
   "cell_type": "code",
   "execution_count": 5,
   "id": "fdc5fef7",
   "metadata": {},
   "outputs": [
    {
     "ename": "ImportError",
     "evalue": "cannot import name 'remove_cols' from 'preprocess' (D:\\ml\\mai_ml_labs\\preprocess.py)",
     "output_type": "error",
     "traceback": [
      "\u001b[1;31m---------------------------------------------------------------------------\u001b[0m",
      "\u001b[1;31mImportError\u001b[0m                               Traceback (most recent call last)",
      "Cell \u001b[1;32mIn[5], line 1\u001b[0m\n\u001b[1;32m----> 1\u001b[0m \u001b[38;5;28;01mfrom\u001b[39;00m \u001b[38;5;21;01mpreprocess\u001b[39;00m \u001b[38;5;28;01mimport\u001b[39;00m remove_cols\n\u001b[0;32m      2\u001b[0m remove_cols(df)\n",
      "\u001b[1;31mImportError\u001b[0m: cannot import name 'remove_cols' from 'preprocess' (D:\\ml\\mai_ml_labs\\preprocess.py)"
     ]
    }
   ],
   "source": [
    "from preprocess import remove_cols\n",
    "remove_cols(df)"
   ]
  },
  {
   "cell_type": "code",
   "execution_count": null,
   "id": "55ff80b5",
   "metadata": {},
   "outputs": [],
   "source": []
  }
 ],
 "metadata": {
  "kernelspec": {
   "display_name": "Python 3 (ipykernel)",
   "language": "python",
   "name": "python3"
  },
  "language_info": {
   "codemirror_mode": {
    "name": "ipython",
    "version": 3
   },
   "file_extension": ".py",
   "mimetype": "text/x-python",
   "name": "python",
   "nbconvert_exporter": "python",
   "pygments_lexer": "ipython3",
   "version": "3.12.8"
  }
 },
 "nbformat": 4,
 "nbformat_minor": 5
}
